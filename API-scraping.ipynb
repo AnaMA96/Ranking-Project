{
 "cells": [
  {
   "cell_type": "code",
   "execution_count": 1,
   "metadata": {},
   "outputs": [],
   "source": [
    "import requests\n",
    "import os\n",
    "from dotenv import load_dotenv\n",
    "load_dotenv()\n",
    "import json\n",
    "from bs4 import BeautifulSoup\n",
    "import pandas as pd\n",
    "from datetime import datetime"
   ]
  },
  {
   "cell_type": "code",
   "execution_count": 2,
   "metadata": {},
   "outputs": [],
   "source": [
    "def gen_url(n):\n",
    "    base_url = \"https://api.github.com\"\n",
    "    owner = \"ironhack-datalabs\"\n",
    "    repo = \"datamad0820\"\n",
    "    query = f\"?per_page=100&page={n}&state=all\"\n",
    "    endpoint = f\"/repos/{owner}/{repo}/pulls\"\n",
    "    return f\"{base_url}{endpoint}{query}\"\n",
    "\n",
    "load_dotenv()\n",
    "authkey = os.getenv(\"AUTHKEY\")\n",
    "headers = {\"Authorization\": f\"Bearer {authkey}\"}"
   ]
  },
  {
   "cell_type": "code",
   "execution_count": 3,
   "metadata": {},
   "outputs": [],
   "source": [
    "gen_url_res = []\n",
    "\n",
    "page = 1\n",
    "while True:\n",
    "    url_res = requests.get(gen_url(page),headers=headers).json()\n",
    "    if not url_res:\n",
    "        break\n",
    "    gen_url_res += url_res\n",
    "    page += 1\n",
    " \n"
   ]
  },
  {
   "cell_type": "code",
   "execution_count": 4,
   "metadata": {},
   "outputs": [],
   "source": [
    "\n",
    "#Obtenemos de la API la lista de las pull requests.\n",
    "def getPullHtml(number):\n",
    "    res = requests.get(f'https://github.com/ironhack-datalabs/datamad0820/pull/{number}')\n",
    "    soup = BeautifulSoup(res.text, 'html.parser')\n",
    "    return soup\n",
    "\n",
    "#Creamos una lista con los memes por user.\n",
    "def pullMemeLst(soup):\n",
    "    images_lst = []\n",
    "    images = soup.find_all(\"img\")\n",
    "    for x in images:\n",
    "        if \"user-images\" in x['src']:\n",
    "            images_lst.append(x['src'])\n",
    "    return images_lst\n",
    "\n",
    "#Buscamos los users con @, función que también nos sirve para obtener los users de los \"join\" porque en la corrección\n",
    "#se les menciona con una @\n",
    "\n",
    "#Ejemplo\n",
    "#print(pullMentions(getPullHtml(385)))\n",
    "\n",
    "#output: {'jorge-alamillos'}\n",
    "\n",
    "def pullMentions(soup):\n",
    "    user_mentions = set()\n",
    "    names = soup.find_all(\"a\")\n",
    "    for x in names:\n",
    "        if x.has_attr(\"class\") and \"user-mention\" in x['class']:\n",
    "            user_mentions.add(x.getText().split('@')[1])\n",
    "    return user_mentions\n",
    "\n",
    "#Pasamos las fechas del último commit y de la hora de cierre a formato datetime para operar y luego lo volvemos a\n",
    "#pasar a json\n",
    "def to_datetime(date_str):\n",
    "    return datetime.strptime(date_str, \"%Y-%m-%dT%H:%M:%SZ\")\n",
    "\n",
    "def dateStr(datetime):\n",
    "    return datetime.strftime(\"%Y-%m-%dT%H:%M:%SZ\")\n",
    "\n",
    "#Para obtener el último commit realizamos una nueva llamada a la API que nos devuelve una lista con los commits, añadimos a \n",
    "#una lista vacía la información que nos interesa de toda la obtenida, y, como puede haber varios commits, para quedarnos\n",
    "#con el último hacemos el max.\n",
    "\n",
    "def lastCommitDate(pull_number):\n",
    "    commit_list = requests.get(f\"https://api.github.com/repos/ironhack-datalabs/datamad0820/pulls/{pull_number}/commits\", headers=headers).json()\n",
    "\n",
    "    dates = []\n",
    "\n",
    "    for commit in commit_list:\n",
    "        dates.append(to_datetime(commit['commit']['author']['date']))\n",
    "\n",
    "    return dateStr(max(dates))\n",
    "\n"
   ]
  },
  {
   "cell_type": "code",
   "execution_count": 10,
   "metadata": {},
   "outputs": [],
   "source": [
    "\n",
    "#Creamos varios json vacíos para empezar a meter la info y organizarla para después exportarla a MongoDB.\n",
    "lst = {}\n",
    "pulls = {}\n",
    "labs = {}\n",
    "names = {}\n",
    "for pull in gen_url_res:\n",
    "    number = pull[\"number\"]\n",
    "    creator = pull[\"user\"][\"login\"]\n",
    "    pull_id = pull[\"id\"]\n",
    "    lab = {}\n",
    "    labTitle = pull[\"title\"]\n",
    "    if \"[\" in labTitle:\n",
    "        labTitle = labTitle.split(\"[\")[1]\n",
    "    if \"]\" in labTitle:\n",
    "        labTitle = labTitle.split(\"]\")[0]\n",
    "    labTitle = labTitle.replace(\" \", \"-\").lower()\n",
    "    lab = labTitle\n",
    "    soup = getPullHtml(number)\n",
    "    meme_lst= pullMemeLst(soup)\n",
    "    \n",
    "    if creator in lst:\n",
    "        lst[creator] = lst[creator]+ meme_lst\n",
    "    else:\n",
    "        lst.update({creator : meme_lst})\n",
    "    mentions = pullMentions(soup)\n",
    "    for mention in mentions:\n",
    "        if mention in lst:\n",
    "            lst[mention] = lst[mention]+ meme_lst\n",
    "        else:\n",
    "            lst.update({mention : meme_lst})\n",
    "    json_pull = {}\n",
    "    json_pull[\"users\"] = [creator]+list(mentions)\n",
    "    json_pull[\"created_at\"] = pull[\"created_at\"]\n",
    "    \n",
    "    closed_at = pull[\"closed_at\"]\n",
    "    json_pull[\"closed_at\"] = closed_at\n",
    "    \n",
    "    last_commit_date = lastCommitDate(number)\n",
    "    json_pull[\"last_commit_time\"] = last_commit_date\n",
    "    \n",
    "    if closed_at:\n",
    "        closed_at_datetime = to_datetime(closed_at)\n",
    "        last_commit_date_datetime = to_datetime(last_commit_date)\n",
    "        json_pull['instructor_grade_time'] = (closed_at_datetime-last_commit_date_datetime).total_seconds() / 3600\n",
    "        \n",
    "    json_pull[\"memes_lst\"] = meme_lst\n",
    "    json_pull[\"state\"] = pull['state']\n",
    "    pulls[str(pull_id)] = json_pull\n",
    "    if lab in labs:\n",
    "        labs[lab] = labs[lab]+ [pull_id]\n",
    "    else:\n",
    "        labs.update({lab : [pull_id]})\n",
    "         \n",
    "    if creator in names:\n",
    "        names[creator] = names[creator] + [lab]\n",
    "    else:\n",
    "        names.update({creator : [lab]})\n",
    "    for mention in mentions:\n",
    "        if mention in names:\n",
    "            names[mention] = names[mention] + [lab]\n",
    "        else:\n",
    "            names.update({mention : [lab]})\n",
    "            "
   ]
  },
  {
   "cell_type": "code",
   "execution_count": null,
   "metadata": {},
   "outputs": [],
   "source": [
    "#Exportación de datos en formato json"
   ]
  },
  {
   "cell_type": "code",
   "execution_count": 12,
   "metadata": {},
   "outputs": [
    {
     "name": "stdout",
     "output_type": "stream",
     "text": [
      "518\n"
     ]
    }
   ],
   "source": [
    "pullsToExport = []\n",
    "\n",
    "for k, v in pulls.items():\n",
    "    pullsToExport.append({**v, **{\"pull_id\": k}})\n",
    "    \n",
    "#número de pull requests obtenidas \n",
    "print(len(pullsToExport))"
   ]
  },
  {
   "cell_type": "code",
   "execution_count": 13,
   "metadata": {},
   "outputs": [],
   "source": [
    "with open('pulls.json', 'w') as json_file:\n",
    "    json.dump(pullsToExport, json_file)"
   ]
  },
  {
   "cell_type": "code",
   "execution_count": 15,
   "metadata": {},
   "outputs": [],
   "source": [
    "labsToExport = []\n",
    "\n",
    "for k, v in labs.items():\n",
    "    v = [str(x) for x in v]\n",
    "    labsToExport.append({\"lab_id\": k, \"pulls_list\": v})"
   ]
  },
  {
   "cell_type": "code",
   "execution_count": 16,
   "metadata": {},
   "outputs": [],
   "source": [
    "#jsonlabs \n",
    "\n",
    "with open('labs.json', 'w') as json_file:\n",
    "    json.dump(labsToExport, json_file)"
   ]
  },
  {
   "cell_type": "code",
   "execution_count": 17,
   "metadata": {},
   "outputs": [],
   "source": [
    "lstToExport = []\n",
    "\n",
    "for k, v in lst.items():\n",
    "    lstToExport.append({\"name\": k, \"memes_list\": v})"
   ]
  },
  {
   "cell_type": "code",
   "execution_count": 18,
   "metadata": {},
   "outputs": [],
   "source": [
    "#jsonlst \n",
    "\n",
    "with open('lst.json', 'w') as json_file:\n",
    "    json.dump(lstToExport, json_file)"
   ]
  },
  {
   "cell_type": "code",
   "execution_count": 19,
   "metadata": {},
   "outputs": [],
   "source": [
    "namesToExport = []\n",
    "\n",
    "for k, v in names.items():\n",
    "    namesToExport.append({\"name\": k, \"labs\": v})"
   ]
  },
  {
   "cell_type": "code",
   "execution_count": 20,
   "metadata": {},
   "outputs": [],
   "source": [
    "#jsonnames\n",
    "\n",
    "with open('names.json', 'w') as json_file:\n",
    "    json.dump(namesToExport, json_file)"
   ]
  },
  {
   "cell_type": "code",
   "execution_count": 144,
   "metadata": {},
   "outputs": [
    {
     "name": "stdout",
     "output_type": "stream",
     "text": [
      "{'bmedm': 'lab-tableau-data-visualization'}\n",
      "{'bmedm': 'lab-tableau-data-visualization'}\n",
      "{'bmedm': 'lab-tableau-data-visualization'}\n",
      "{'bmedm': 'lab-tableau-data-visualization'}\n",
      "{'bmedm': 'lab-tableau-data-visualization'}\n"
     ]
    }
   ],
   "source": [
    "#Testfunction\n",
    "\n",
    "def test(pull):\n",
    "    lst = {}\n",
    "    names = set()\n",
    "    pulls = {}\n",
    "    labs = {}\n",
    "    number = pull[\"number\"]\n",
    "    lab = pull[\"title\"].split(\"[\")[1].split(\"]\")[0]\n",
    "\n",
    "\n",
    "    creator = pull[\"user\"][\"login\"]\n",
    "    pull_id = pull[\"id\"]\n",
    "    soup = getPullHtml(number)\n",
    "    meme_lst= pullMemeLst(soup)\n",
    "    names.add(creator)\n",
    "    \n",
    "    if creator in lst:\n",
    "        lst[creator] = lst[creator]+ meme_lst\n",
    "    else:\n",
    "        lst.update({creator : meme_lst})\n",
    "    mentions = pullMentions(soup)\n",
    "    for mention in mentions:\n",
    "        names.add(mention)\n",
    "        if mention in lst:\n",
    "            lst[mention] = lst[mention]+ meme_lst\n",
    "        else:\n",
    "            lst.update({mention : meme_lst})\n",
    "    json_pull = {}\n",
    "    json_pull[\"users\"] = [creator]+list(mentions)\n",
    "    json_pull[\"created_at\"] = pull[\"created_at\"]\n",
    "    \n",
    "    closed_at = pull[\"closed_at\"]\n",
    "    json_pull[\"closed_at\"] = closed_at\n",
    "    \n",
    "    last_commit_date = lastCommitDate(number)\n",
    "    json_pull[\"last_commit_time\"] = last_commit_date\n",
    "    \n",
    "    if closed_at:\n",
    "        closed_at_datetime = to_datetime(closed_at)\n",
    "        last_commit_date_datetime = to_datetime(last_commit_date)\n",
    "        json_pull['instructor_grade_time'] = (closed_at_datetime-last_commit_date_datetime).total_seconds() / 3600\n",
    "    \n",
    "    json_pull[\"memes_lst\"] = meme_lst\n",
    "    pulls[str(pull_id)] = json_pull\n",
    "    if lab in labs:\n",
    "        labs[lab] = labs[lab]+ [pull_id]\n",
    "    else:\n",
    "        labs.update({lab : [pull_id]})\n",
    "        \n",
    "    names = {}\n",
    "    if creator in names:\n",
    "        names[creator] = names[creator] + [lab]\n",
    "    else:\n",
    "        names.update({creator : lab})\n",
    "    for mention in mentions:\n",
    "        if mention in names:\n",
    "            names[mention] = names[mention] + [lab]\n",
    "        else:\n",
    "            names.update({mention : lab})\n",
    "    \n",
    "    print(names)\n",
    "    \n",
    "for pull in gen_url_res:\n",
    "    if pull['number'] == 526:\n",
    "        test(pull)"
   ]
  },
  {
   "cell_type": "code",
   "execution_count": null,
   "metadata": {},
   "outputs": [],
   "source": []
  },
  {
   "cell_type": "code",
   "execution_count": 83,
   "metadata": {},
   "outputs": [],
   "source": []
  },
  {
   "cell_type": "code",
   "execution_count": null,
   "metadata": {},
   "outputs": [],
   "source": []
  },
  {
   "cell_type": "code",
   "execution_count": null,
   "metadata": {},
   "outputs": [],
   "source": []
  }
 ],
 "metadata": {
  "kernelspec": {
   "display_name": "Python 3",
   "language": "python",
   "name": "python3"
  },
  "language_info": {
   "codemirror_mode": {
    "name": "ipython",
    "version": 3
   },
   "file_extension": ".py",
   "mimetype": "text/x-python",
   "name": "python",
   "nbconvert_exporter": "python",
   "pygments_lexer": "ipython3",
   "version": "3.8.5"
  }
 },
 "nbformat": 4,
 "nbformat_minor": 4
}
