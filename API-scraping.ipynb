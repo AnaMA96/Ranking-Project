{
 "cells": [
  {
   "cell_type": "code",
   "execution_count": 1,
   "metadata": {},
   "outputs": [],
   "source": [
    "import requests\n",
    "import os\n",
    "from dotenv import load_dotenv\n",
    "load_dotenv()\n",
    "import json\n",
    "import requests\n",
    "import requests\n",
    "from bs4 import BeautifulSoup\n",
    "import pandas as pd"
   ]
  },
  {
   "cell_type": "code",
   "execution_count": 10,
   "metadata": {},
   "outputs": [],
   "source": [
    "def gen_url(n):\n",
    "    base_url = \"https://api.github.com\"\n",
    "    owner = \"ironhack-datalabs\"\n",
    "    repo = \"datamad0820\"\n",
    "    query = \"?per_page=100&page={n}&state=closed\"\n",
    "    endpoint = f\"/repos/{owner}/{repo}/pulls\"\n",
    "    return f\"{base_url}{endpoint}{query}\"\n",
    "\n",
    "load_dotenv()\n",
    "authkey = os.getenv(\"AUTHKEY\")\n",
    "headers = {\"Authorization\": f\"Bearer {authkey}\"}"
   ]
  },
  {
   "cell_type": "code",
   "execution_count": 13,
   "metadata": {},
   "outputs": [],
   "source": [
    "gen_url_res = []\n",
    "\n",
    "for page in range(1,6):\n",
    "    gen_url_res += requests.get(gen_url(page),headers=headers).json()\n",
    " \n"
   ]
  },
  {
   "cell_type": "code",
   "execution_count": 14,
   "metadata": {},
   "outputs": [
    {
     "name": "stdout",
     "output_type": "stream",
     "text": [
      "500\n"
     ]
    }
   ],
   "source": [
    "print(len(gen_url_res))"
   ]
  },
  {
   "cell_type": "code",
   "execution_count": 39,
   "metadata": {},
   "outputs": [],
   "source": [
    "def getPullHtml(number):\n",
    "    res = requests.get(f'https://github.com/ironhack-datalabs/datamad0820/pull/{number}')\n",
    "    soup = BeautifulSoup(res.text, 'html.parser')\n",
    "    return soup\n",
    "\n",
    "def pullMemeLst(soup):\n",
    "    images_lst = []\n",
    "    images = soup.find_all(\"img\")\n",
    "    for x in images:\n",
    "        if \"user-images\" in x['src']:\n",
    "            images_lst.append(x['src'])\n",
    "    return images_lst\n",
    "    \n",
    "def pullMentions(soup):\n",
    "    user_mentions = set()\n",
    "    names = soup.find_all(\"a\")\n",
    "    for x in names:\n",
    "        if x.has_attr(\"class\") and \"user-mention\" in x['class']:\n",
    "            user_mentions.add(x.getText().split('@')[1])\n",
    "    return user_mentions\n",
    "\n",
    "#Tiene en cuenta tanto los usuarios mencionados con la @ como los de los join, porque los TA mencionan con la @ al \n",
    "#contestar "
   ]
  },
  {
   "cell_type": "code",
   "execution_count": 43,
   "metadata": {},
   "outputs": [
    {
     "name": "stdout",
     "output_type": "stream",
     "text": [
      "{'jorge-alamillos'}\n"
     ]
    }
   ],
   "source": [
    "#Ejemplo\n",
    "#print(pullMentions(getPullHtml(385)))\n",
    "\n",
    "#output: {'jorge-alamillos'}\n",
    "\n",
    "\n"
   ]
  },
  {
   "cell_type": "code",
   "execution_count": 41,
   "metadata": {},
   "outputs": [],
   "source": [
    "lst = {}\n",
    "for pull in gen_url_res:\n",
    "    number = pull[\"number\"]\n",
    "    creator = pull[\"user\"][\"login\"]\n",
    "    soup = getPullHtml(number)\n",
    "    meme_lst= pullMemeLst(soup)\n",
    "    \n",
    "    if creator in lst:\n",
    "        lst[creator] = lst[creator]+ meme_lst\n",
    "    else:\n",
    "        lst.update({creator : meme_lst})\n",
    "    mentions = pullMentions(soup)\n",
    "    for mention in mentions:\n",
    "        if mention in lst:\n",
    "            lst[mention] = lst[mention]+ meme_lst\n",
    "        else:\n",
    "            lst.update({mention : meme_lst})\n",
    "            \n",
    "            \n",
    "    "
   ]
  },
  {
   "cell_type": "code",
   "execution_count": 44,
   "metadata": {},
   "outputs": [],
   "source": [
    "#lst"
   ]
  },
  {
   "cell_type": "code",
   "execution_count": null,
   "metadata": {},
   "outputs": [],
   "source": []
  },
  {
   "cell_type": "code",
   "execution_count": 37,
   "metadata": {},
   "outputs": [
    {
     "name": "stdout",
     "output_type": "stream",
     "text": [
      "{'AnaMA96'}\n"
     ]
    }
   ],
   "source": []
  },
  {
   "cell_type": "code",
   "execution_count": null,
   "metadata": {},
   "outputs": [],
   "source": []
  },
  {
   "cell_type": "code",
   "execution_count": null,
   "metadata": {},
   "outputs": [],
   "source": []
  }
 ],
 "metadata": {
  "kernelspec": {
   "display_name": "Python 3",
   "language": "python",
   "name": "python3"
  },
  "language_info": {
   "codemirror_mode": {
    "name": "ipython",
    "version": 3
   },
   "file_extension": ".py",
   "mimetype": "text/x-python",
   "name": "python",
   "nbconvert_exporter": "python",
   "pygments_lexer": "ipython3",
   "version": "3.8.5"
  }
 },
 "nbformat": 4,
 "nbformat_minor": 4
}
