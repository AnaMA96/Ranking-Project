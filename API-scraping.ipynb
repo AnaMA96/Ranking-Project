{
 "cells": [
  {
   "cell_type": "code",
   "execution_count": 1,
   "metadata": {},
   "outputs": [],
   "source": [
    "import requests\n",
    "import os\n",
    "from dotenv import load_dotenv\n",
    "load_dotenv()\n",
    "import json\n",
    "from bs4 import BeautifulSoup\n",
    "import pandas as pd\n",
    "from datetime import datetime"
   ]
  },
  {
   "cell_type": "code",
   "execution_count": 62,
   "metadata": {},
   "outputs": [],
   "source": [
    "def gen_url(n):\n",
    "    base_url = \"https://api.github.com\"\n",
    "    owner = \"ironhack-datalabs\"\n",
    "    repo = \"datamad0820\"\n",
    "    query = f\"?per_page=100&page={n}&state=all\"\n",
    "    endpoint = f\"/repos/{owner}/{repo}/pulls\"\n",
    "    return f\"{base_url}{endpoint}{query}\"\n",
    "\n",
    "load_dotenv()\n",
    "authkey = os.getenv(\"AUTHKEY\")\n",
    "headers = {\"Authorization\": f\"Bearer {authkey}\"}"
   ]
  },
  {
   "cell_type": "code",
   "execution_count": 63,
   "metadata": {},
   "outputs": [
    {
     "name": "stdout",
     "output_type": "stream",
     "text": [
      "https://api.github.com/repos/ironhack-datalabs/datamad0820/pulls?per_page=100&page=1&state=all\n",
      "100\n",
      "https://api.github.com/repos/ironhack-datalabs/datamad0820/pulls?per_page=100&page=2&state=all\n",
      "100\n",
      "https://api.github.com/repos/ironhack-datalabs/datamad0820/pulls?per_page=100&page=3&state=all\n",
      "100\n",
      "https://api.github.com/repos/ironhack-datalabs/datamad0820/pulls?per_page=100&page=4&state=all\n",
      "100\n",
      "https://api.github.com/repos/ironhack-datalabs/datamad0820/pulls?per_page=100&page=5&state=all\n",
      "100\n",
      "https://api.github.com/repos/ironhack-datalabs/datamad0820/pulls?per_page=100&page=6&state=all\n",
      "18\n",
      "https://api.github.com/repos/ironhack-datalabs/datamad0820/pulls?per_page=100&page=7&state=all\n",
      "0\n"
     ]
    }
   ],
   "source": [
    "gen_url_res = []\n",
    "\n",
    "page = 1\n",
    "while True:\n",
    "    url_res = requests.get(gen_url(page),headers=headers).json()\n",
    "    if not url_res:\n",
    "        break\n",
    "    gen_url_res += url_res\n",
    "    page += 1\n",
    " \n"
   ]
  },
  {
   "cell_type": "code",
   "execution_count": 64,
   "metadata": {},
   "outputs": [
    {
     "name": "stdout",
     "output_type": "stream",
     "text": [
      "518\n"
     ]
    }
   ],
   "source": [
    "print(len(gen_url_res))"
   ]
  },
  {
   "cell_type": "code",
   "execution_count": 65,
   "metadata": {},
   "outputs": [
    {
     "name": "stdout",
     "output_type": "stream",
     "text": [
      "{'url': 'https://api.github.com/repos/ironhack-datalabs/datamad0820/pulls/541', 'id': 490428782, 'node_id': 'MDExOlB1bGxSZXF1ZXN0NDkwNDI4Nzgy', 'html_url': 'https://github.com/ironhack-datalabs/datamad0820/pull/541', 'diff_url': 'https://github.com/ironhack-datalabs/datamad0820/pull/541.diff', 'patch_url': 'https://github.com/ironhack-datalabs/datamad0820/pull/541.patch', 'issue_url': 'https://api.github.com/repos/ironhack-datalabs/datamad0820/issues/541', 'number': 541, 'state': 'open', 'locked': False, 'title': '[lab-code-simplicity-efficiency] Diego Lopez-Puertas', 'user': {'login': 'Diegon8', 'id': 68472164, 'node_id': 'MDQ6VXNlcjY4NDcyMTY0', 'avatar_url': 'https://avatars2.githubusercontent.com/u/68472164?v=4', 'gravatar_id': '', 'url': 'https://api.github.com/users/Diegon8', 'html_url': 'https://github.com/Diegon8', 'followers_url': 'https://api.github.com/users/Diegon8/followers', 'following_url': 'https://api.github.com/users/Diegon8/following{/other_user}', 'gists_url': 'https://api.github.com/users/Diegon8/gists{/gist_id}', 'starred_url': 'https://api.github.com/users/Diegon8/starred{/owner}{/repo}', 'subscriptions_url': 'https://api.github.com/users/Diegon8/subscriptions', 'organizations_url': 'https://api.github.com/users/Diegon8/orgs', 'repos_url': 'https://api.github.com/users/Diegon8/repos', 'events_url': 'https://api.github.com/users/Diegon8/events{/privacy}', 'received_events_url': 'https://api.github.com/users/Diegon8/received_events', 'type': 'User', 'site_admin': False}, 'body': 'Lab rehecho! Os paso la pull \\r\\n![image](https://user-images.githubusercontent.com/68472164/93796393-12fc0e00-fc3b-11ea-8abc-ce360f97083f.png)\\r\\n', 'created_at': '2020-09-21T16:45:52Z', 'updated_at': '2020-09-23T09:31:11Z', 'closed_at': None, 'merged_at': None, 'merge_commit_sha': 'da33f152b84a2630a63f37df735065298961014f', 'assignee': {'login': 'agalvezcorell', 'id': 57899051, 'node_id': 'MDQ6VXNlcjU3ODk5MDUx', 'avatar_url': 'https://avatars0.githubusercontent.com/u/57899051?v=4', 'gravatar_id': '', 'url': 'https://api.github.com/users/agalvezcorell', 'html_url': 'https://github.com/agalvezcorell', 'followers_url': 'https://api.github.com/users/agalvezcorell/followers', 'following_url': 'https://api.github.com/users/agalvezcorell/following{/other_user}', 'gists_url': 'https://api.github.com/users/agalvezcorell/gists{/gist_id}', 'starred_url': 'https://api.github.com/users/agalvezcorell/starred{/owner}{/repo}', 'subscriptions_url': 'https://api.github.com/users/agalvezcorell/subscriptions', 'organizations_url': 'https://api.github.com/users/agalvezcorell/orgs', 'repos_url': 'https://api.github.com/users/agalvezcorell/repos', 'events_url': 'https://api.github.com/users/agalvezcorell/events{/privacy}', 'received_events_url': 'https://api.github.com/users/agalvezcorell/received_events', 'type': 'User', 'site_admin': False}, 'assignees': [{'login': 'agalvezcorell', 'id': 57899051, 'node_id': 'MDQ6VXNlcjU3ODk5MDUx', 'avatar_url': 'https://avatars0.githubusercontent.com/u/57899051?v=4', 'gravatar_id': '', 'url': 'https://api.github.com/users/agalvezcorell', 'html_url': 'https://github.com/agalvezcorell', 'followers_url': 'https://api.github.com/users/agalvezcorell/followers', 'following_url': 'https://api.github.com/users/agalvezcorell/following{/other_user}', 'gists_url': 'https://api.github.com/users/agalvezcorell/gists{/gist_id}', 'starred_url': 'https://api.github.com/users/agalvezcorell/starred{/owner}{/repo}', 'subscriptions_url': 'https://api.github.com/users/agalvezcorell/subscriptions', 'organizations_url': 'https://api.github.com/users/agalvezcorell/orgs', 'repos_url': 'https://api.github.com/users/agalvezcorell/repos', 'events_url': 'https://api.github.com/users/agalvezcorell/events{/privacy}', 'received_events_url': 'https://api.github.com/users/agalvezcorell/received_events', 'type': 'User', 'site_admin': False}], 'requested_reviewers': [], 'requested_teams': [], 'labels': [], 'milestone': None, 'draft': False, 'commits_url': 'https://api.github.com/repos/ironhack-datalabs/datamad0820/pulls/541/commits', 'review_comments_url': 'https://api.github.com/repos/ironhack-datalabs/datamad0820/pulls/541/comments', 'review_comment_url': 'https://api.github.com/repos/ironhack-datalabs/datamad0820/pulls/comments{/number}', 'comments_url': 'https://api.github.com/repos/ironhack-datalabs/datamad0820/issues/541/comments', 'statuses_url': 'https://api.github.com/repos/ironhack-datalabs/datamad0820/statuses/3f554b2a0d5c81a74bcb271d40fde2f0737d66b5', 'head': {'label': 'Diegon8:lab-code-simplicity-efficiency', 'ref': 'lab-code-simplicity-efficiency', 'sha': '3f554b2a0d5c81a74bcb271d40fde2f0737d66b5', 'user': {'login': 'Diegon8', 'id': 68472164, 'node_id': 'MDQ6VXNlcjY4NDcyMTY0', 'avatar_url': 'https://avatars2.githubusercontent.com/u/68472164?v=4', 'gravatar_id': '', 'url': 'https://api.github.com/users/Diegon8', 'html_url': 'https://github.com/Diegon8', 'followers_url': 'https://api.github.com/users/Diegon8/followers', 'following_url': 'https://api.github.com/users/Diegon8/following{/other_user}', 'gists_url': 'https://api.github.com/users/Diegon8/gists{/gist_id}', 'starred_url': 'https://api.github.com/users/Diegon8/starred{/owner}{/repo}', 'subscriptions_url': 'https://api.github.com/users/Diegon8/subscriptions', 'organizations_url': 'https://api.github.com/users/Diegon8/orgs', 'repos_url': 'https://api.github.com/users/Diegon8/repos', 'events_url': 'https://api.github.com/users/Diegon8/events{/privacy}', 'received_events_url': 'https://api.github.com/users/Diegon8/received_events', 'type': 'User', 'site_admin': False}, 'repo': {'id': 288185827, 'node_id': 'MDEwOlJlcG9zaXRvcnkyODgxODU4Mjc=', 'name': 'datamad0820', 'full_name': 'Diegon8/datamad0820', 'private': False, 'owner': {'login': 'Diegon8', 'id': 68472164, 'node_id': 'MDQ6VXNlcjY4NDcyMTY0', 'avatar_url': 'https://avatars2.githubusercontent.com/u/68472164?v=4', 'gravatar_id': '', 'url': 'https://api.github.com/users/Diegon8', 'html_url': 'https://github.com/Diegon8', 'followers_url': 'https://api.github.com/users/Diegon8/followers', 'following_url': 'https://api.github.com/users/Diegon8/following{/other_user}', 'gists_url': 'https://api.github.com/users/Diegon8/gists{/gist_id}', 'starred_url': 'https://api.github.com/users/Diegon8/starred{/owner}{/repo}', 'subscriptions_url': 'https://api.github.com/users/Diegon8/subscriptions', 'organizations_url': 'https://api.github.com/users/Diegon8/orgs', 'repos_url': 'https://api.github.com/users/Diegon8/repos', 'events_url': 'https://api.github.com/users/Diegon8/events{/privacy}', 'received_events_url': 'https://api.github.com/users/Diegon8/received_events', 'type': 'User', 'site_admin': False}, 'html_url': 'https://github.com/Diegon8/datamad0820', 'description': None, 'fork': True, 'url': 'https://api.github.com/repos/Diegon8/datamad0820', 'forks_url': 'https://api.github.com/repos/Diegon8/datamad0820/forks', 'keys_url': 'https://api.github.com/repos/Diegon8/datamad0820/keys{/key_id}', 'collaborators_url': 'https://api.github.com/repos/Diegon8/datamad0820/collaborators{/collaborator}', 'teams_url': 'https://api.github.com/repos/Diegon8/datamad0820/teams', 'hooks_url': 'https://api.github.com/repos/Diegon8/datamad0820/hooks', 'issue_events_url': 'https://api.github.com/repos/Diegon8/datamad0820/issues/events{/number}', 'events_url': 'https://api.github.com/repos/Diegon8/datamad0820/events', 'assignees_url': 'https://api.github.com/repos/Diegon8/datamad0820/assignees{/user}', 'branches_url': 'https://api.github.com/repos/Diegon8/datamad0820/branches{/branch}', 'tags_url': 'https://api.github.com/repos/Diegon8/datamad0820/tags', 'blobs_url': 'https://api.github.com/repos/Diegon8/datamad0820/git/blobs{/sha}', 'git_tags_url': 'https://api.github.com/repos/Diegon8/datamad0820/git/tags{/sha}', 'git_refs_url': 'https://api.github.com/repos/Diegon8/datamad0820/git/refs{/sha}', 'trees_url': 'https://api.github.com/repos/Diegon8/datamad0820/git/trees{/sha}', 'statuses_url': 'https://api.github.com/repos/Diegon8/datamad0820/statuses/{sha}', 'languages_url': 'https://api.github.com/repos/Diegon8/datamad0820/languages', 'stargazers_url': 'https://api.github.com/repos/Diegon8/datamad0820/stargazers', 'contributors_url': 'https://api.github.com/repos/Diegon8/datamad0820/contributors', 'subscribers_url': 'https://api.github.com/repos/Diegon8/datamad0820/subscribers', 'subscription_url': 'https://api.github.com/repos/Diegon8/datamad0820/subscription', 'commits_url': 'https://api.github.com/repos/Diegon8/datamad0820/commits{/sha}', 'git_commits_url': 'https://api.github.com/repos/Diegon8/datamad0820/git/commits{/sha}', 'comments_url': 'https://api.github.com/repos/Diegon8/datamad0820/comments{/number}', 'issue_comment_url': 'https://api.github.com/repos/Diegon8/datamad0820/issues/comments{/number}', 'contents_url': 'https://api.github.com/repos/Diegon8/datamad0820/contents/{+path}', 'compare_url': 'https://api.github.com/repos/Diegon8/datamad0820/compare/{base}...{head}', 'merges_url': 'https://api.github.com/repos/Diegon8/datamad0820/merges', 'archive_url': 'https://api.github.com/repos/Diegon8/datamad0820/{archive_format}{/ref}', 'downloads_url': 'https://api.github.com/repos/Diegon8/datamad0820/downloads', 'issues_url': 'https://api.github.com/repos/Diegon8/datamad0820/issues{/number}', 'pulls_url': 'https://api.github.com/repos/Diegon8/datamad0820/pulls{/number}', 'milestones_url': 'https://api.github.com/repos/Diegon8/datamad0820/milestones{/number}', 'notifications_url': 'https://api.github.com/repos/Diegon8/datamad0820/notifications{?since,all,participating}', 'labels_url': 'https://api.github.com/repos/Diegon8/datamad0820/labels{/name}', 'releases_url': 'https://api.github.com/repos/Diegon8/datamad0820/releases{/id}', 'deployments_url': 'https://api.github.com/repos/Diegon8/datamad0820/deployments', 'created_at': '2020-08-17T13:20:40Z', 'updated_at': '2020-09-10T14:47:00Z', 'pushed_at': '2020-09-21T16:17:29Z', 'git_url': 'git://github.com/Diegon8/datamad0820.git', 'ssh_url': 'git@github.com:Diegon8/datamad0820.git', 'clone_url': 'https://github.com/Diegon8/datamad0820.git', 'svn_url': 'https://github.com/Diegon8/datamad0820', 'homepage': None, 'size': 164272, 'stargazers_count': 0, 'watchers_count': 0, 'language': 'Jupyter Notebook', 'has_issues': False, 'has_projects': True, 'has_downloads': True, 'has_wiki': True, 'has_pages': False, 'forks_count': 0, 'mirror_url': None, 'archived': False, 'disabled': False, 'open_issues_count': 0, 'license': {'key': 'agpl-3.0', 'name': 'GNU Affero General Public License v3.0', 'spdx_id': 'AGPL-3.0', 'url': 'https://api.github.com/licenses/agpl-3.0', 'node_id': 'MDc6TGljZW5zZTE='}, 'forks': 0, 'open_issues': 0, 'watchers': 0, 'default_branch': 'master'}}, 'base': {'label': 'ironhack-datalabs:master', 'ref': 'master', 'sha': 'f6f05d6acc88dafc3b08699bc792d067880738c7', 'user': {'login': 'ironhack-datalabs', 'id': 44225188, 'node_id': 'MDEyOk9yZ2FuaXphdGlvbjQ0MjI1MTg4', 'avatar_url': 'https://avatars2.githubusercontent.com/u/44225188?v=4', 'gravatar_id': '', 'url': 'https://api.github.com/users/ironhack-datalabs', 'html_url': 'https://github.com/ironhack-datalabs', 'followers_url': 'https://api.github.com/users/ironhack-datalabs/followers', 'following_url': 'https://api.github.com/users/ironhack-datalabs/following{/other_user}', 'gists_url': 'https://api.github.com/users/ironhack-datalabs/gists{/gist_id}', 'starred_url': 'https://api.github.com/users/ironhack-datalabs/starred{/owner}{/repo}', 'subscriptions_url': 'https://api.github.com/users/ironhack-datalabs/subscriptions', 'organizations_url': 'https://api.github.com/users/ironhack-datalabs/orgs', 'repos_url': 'https://api.github.com/users/ironhack-datalabs/repos', 'events_url': 'https://api.github.com/users/ironhack-datalabs/events{/privacy}', 'received_events_url': 'https://api.github.com/users/ironhack-datalabs/received_events', 'type': 'Organization', 'site_admin': False}, 'repo': {'id': 288154375, 'node_id': 'MDEwOlJlcG9zaXRvcnkyODgxNTQzNzU=', 'name': 'datamad0820', 'full_name': 'ironhack-datalabs/datamad0820', 'private': False, 'owner': {'login': 'ironhack-datalabs', 'id': 44225188, 'node_id': 'MDEyOk9yZ2FuaXphdGlvbjQ0MjI1MTg4', 'avatar_url': 'https://avatars2.githubusercontent.com/u/44225188?v=4', 'gravatar_id': '', 'url': 'https://api.github.com/users/ironhack-datalabs', 'html_url': 'https://github.com/ironhack-datalabs', 'followers_url': 'https://api.github.com/users/ironhack-datalabs/followers', 'following_url': 'https://api.github.com/users/ironhack-datalabs/following{/other_user}', 'gists_url': 'https://api.github.com/users/ironhack-datalabs/gists{/gist_id}', 'starred_url': 'https://api.github.com/users/ironhack-datalabs/starred{/owner}{/repo}', 'subscriptions_url': 'https://api.github.com/users/ironhack-datalabs/subscriptions', 'organizations_url': 'https://api.github.com/users/ironhack-datalabs/orgs', 'repos_url': 'https://api.github.com/users/ironhack-datalabs/repos', 'events_url': 'https://api.github.com/users/ironhack-datalabs/events{/privacy}', 'received_events_url': 'https://api.github.com/users/ironhack-datalabs/received_events', 'type': 'Organization', 'site_admin': False}, 'html_url': 'https://github.com/ironhack-datalabs/datamad0820', 'description': None, 'fork': False, 'url': 'https://api.github.com/repos/ironhack-datalabs/datamad0820', 'forks_url': 'https://api.github.com/repos/ironhack-datalabs/datamad0820/forks', 'keys_url': 'https://api.github.com/repos/ironhack-datalabs/datamad0820/keys{/key_id}', 'collaborators_url': 'https://api.github.com/repos/ironhack-datalabs/datamad0820/collaborators{/collaborator}', 'teams_url': 'https://api.github.com/repos/ironhack-datalabs/datamad0820/teams', 'hooks_url': 'https://api.github.com/repos/ironhack-datalabs/datamad0820/hooks', 'issue_events_url': 'https://api.github.com/repos/ironhack-datalabs/datamad0820/issues/events{/number}', 'events_url': 'https://api.github.com/repos/ironhack-datalabs/datamad0820/events', 'assignees_url': 'https://api.github.com/repos/ironhack-datalabs/datamad0820/assignees{/user}', 'branches_url': 'https://api.github.com/repos/ironhack-datalabs/datamad0820/branches{/branch}', 'tags_url': 'https://api.github.com/repos/ironhack-datalabs/datamad0820/tags', 'blobs_url': 'https://api.github.com/repos/ironhack-datalabs/datamad0820/git/blobs{/sha}', 'git_tags_url': 'https://api.github.com/repos/ironhack-datalabs/datamad0820/git/tags{/sha}', 'git_refs_url': 'https://api.github.com/repos/ironhack-datalabs/datamad0820/git/refs{/sha}', 'trees_url': 'https://api.github.com/repos/ironhack-datalabs/datamad0820/git/trees{/sha}', 'statuses_url': 'https://api.github.com/repos/ironhack-datalabs/datamad0820/statuses/{sha}', 'languages_url': 'https://api.github.com/repos/ironhack-datalabs/datamad0820/languages', 'stargazers_url': 'https://api.github.com/repos/ironhack-datalabs/datamad0820/stargazers', 'contributors_url': 'https://api.github.com/repos/ironhack-datalabs/datamad0820/contributors', 'subscribers_url': 'https://api.github.com/repos/ironhack-datalabs/datamad0820/subscribers', 'subscription_url': 'https://api.github.com/repos/ironhack-datalabs/datamad0820/subscription', 'commits_url': 'https://api.github.com/repos/ironhack-datalabs/datamad0820/commits{/sha}', 'git_commits_url': 'https://api.github.com/repos/ironhack-datalabs/datamad0820/git/commits{/sha}', 'comments_url': 'https://api.github.com/repos/ironhack-datalabs/datamad0820/comments{/number}', 'issue_comment_url': 'https://api.github.com/repos/ironhack-datalabs/datamad0820/issues/comments{/number}', 'contents_url': 'https://api.github.com/repos/ironhack-datalabs/datamad0820/contents/{+path}', 'compare_url': 'https://api.github.com/repos/ironhack-datalabs/datamad0820/compare/{base}...{head}', 'merges_url': 'https://api.github.com/repos/ironhack-datalabs/datamad0820/merges', 'archive_url': 'https://api.github.com/repos/ironhack-datalabs/datamad0820/{archive_format}{/ref}', 'downloads_url': 'https://api.github.com/repos/ironhack-datalabs/datamad0820/downloads', 'issues_url': 'https://api.github.com/repos/ironhack-datalabs/datamad0820/issues{/number}', 'pulls_url': 'https://api.github.com/repos/ironhack-datalabs/datamad0820/pulls{/number}', 'milestones_url': 'https://api.github.com/repos/ironhack-datalabs/datamad0820/milestones{/number}', 'notifications_url': 'https://api.github.com/repos/ironhack-datalabs/datamad0820/notifications{?since,all,participating}', 'labels_url': 'https://api.github.com/repos/ironhack-datalabs/datamad0820/labels{/name}', 'releases_url': 'https://api.github.com/repos/ironhack-datalabs/datamad0820/releases{/id}', 'deployments_url': 'https://api.github.com/repos/ironhack-datalabs/datamad0820/deployments', 'created_at': '2020-08-17T10:48:15Z', 'updated_at': '2020-09-10T14:27:07Z', 'pushed_at': '2020-09-21T16:45:53Z', 'git_url': 'git://github.com/ironhack-datalabs/datamad0820.git', 'ssh_url': 'git@github.com:ironhack-datalabs/datamad0820.git', 'clone_url': 'https://github.com/ironhack-datalabs/datamad0820.git', 'svn_url': 'https://github.com/ironhack-datalabs/datamad0820', 'homepage': None, 'size': 162760, 'stargazers_count': 0, 'watchers_count': 0, 'language': 'Jupyter Notebook', 'has_issues': True, 'has_projects': True, 'has_downloads': True, 'has_wiki': True, 'has_pages': False, 'forks_count': 30, 'mirror_url': None, 'archived': False, 'disabled': False, 'open_issues_count': 30, 'license': {'key': 'agpl-3.0', 'name': 'GNU Affero General Public License v3.0', 'spdx_id': 'AGPL-3.0', 'url': 'https://api.github.com/licenses/agpl-3.0', 'node_id': 'MDc6TGljZW5zZTE='}, 'forks': 30, 'open_issues': 30, 'watchers': 0, 'default_branch': 'master'}}, '_links': {'self': {'href': 'https://api.github.com/repos/ironhack-datalabs/datamad0820/pulls/541'}, 'html': {'href': 'https://github.com/ironhack-datalabs/datamad0820/pull/541'}, 'issue': {'href': 'https://api.github.com/repos/ironhack-datalabs/datamad0820/issues/541'}, 'comments': {'href': 'https://api.github.com/repos/ironhack-datalabs/datamad0820/issues/541/comments'}, 'review_comments': {'href': 'https://api.github.com/repos/ironhack-datalabs/datamad0820/pulls/541/comments'}, 'review_comment': {'href': 'https://api.github.com/repos/ironhack-datalabs/datamad0820/pulls/comments{/number}'}, 'commits': {'href': 'https://api.github.com/repos/ironhack-datalabs/datamad0820/pulls/541/commits'}, 'statuses': {'href': 'https://api.github.com/repos/ironhack-datalabs/datamad0820/statuses/3f554b2a0d5c81a74bcb271d40fde2f0737d66b5'}}, 'author_association': 'NONE', 'active_lock_reason': None}\n"
     ]
    }
   ],
   "source": [
    "print(gen_url_res[0])"
   ]
  },
  {
   "cell_type": "code",
   "execution_count": 66,
   "metadata": {},
   "outputs": [],
   "source": [
    "def getPullHtml(number):\n",
    "    res = requests.get(f'https://github.com/ironhack-datalabs/datamad0820/pull/{number}')\n",
    "    soup = BeautifulSoup(res.text, 'html.parser')\n",
    "    return soup\n",
    "\n",
    "def pullMemeLst(soup):\n",
    "    images_lst = []\n",
    "    images = soup.find_all(\"img\")\n",
    "    for x in images:\n",
    "        if \"user-images\" in x['src']:\n",
    "            images_lst.append(x['src'])\n",
    "    return images_lst\n",
    "    \n",
    "def pullMentions(soup):\n",
    "    user_mentions = set()\n",
    "    names = soup.find_all(\"a\")\n",
    "    for x in names:\n",
    "        if x.has_attr(\"class\") and \"user-mention\" in x['class']:\n",
    "            user_mentions.add(x.getText().split('@')[1])\n",
    "    return user_mentions\n",
    "\n",
    "def to_datetime(date_str):\n",
    "    return datetime.strptime(date_str, \"%Y-%m-%dT%H:%M:%SZ\")\n",
    "\n",
    "def dateStr(datetime):\n",
    "    return datetime.strftime(\"%Y-%m-%dT%H:%M:%SZ\")\n",
    "\n",
    "def lastCommitDate(pull_number):\n",
    "    commit_list = requests.get(f\"https://api.github.com/repos/ironhack-datalabs/datamad0820/pulls/{pull_number}/commits\", headers=headers).json()\n",
    "\n",
    "    dates = []\n",
    "\n",
    "    for commit in commit_list:\n",
    "        dates.append(to_datetime(commit['commit']['author']['date']))\n",
    "\n",
    "    return dateStr(max(dates))\n",
    "\n",
    "#Tiene en cuenta tanto los usuarios mencionados con la @ como los de los join, porque los TA mencionan con la @ al \n",
    "#contestar \n",
    "\n",
    "#Ejemplo\n",
    "#print(pullMentions(getPullHtml(385)))\n",
    "\n",
    "#output: {'jorge-alamillos'}\n"
   ]
  },
  {
   "cell_type": "code",
   "execution_count": null,
   "metadata": {},
   "outputs": [],
   "source": []
  },
  {
   "cell_type": "code",
   "execution_count": null,
   "metadata": {},
   "outputs": [],
   "source": [
    "\n"
   ]
  },
  {
   "cell_type": "code",
   "execution_count": null,
   "metadata": {},
   "outputs": [],
   "source": []
  },
  {
   "cell_type": "code",
   "execution_count": 70,
   "metadata": {},
   "outputs": [],
   "source": [
    "lst = {}\n",
    "pulls = {}\n",
    "labs = {}\n",
    "names = {}\n",
    "for pull in gen_url_res:\n",
    "    number = pull[\"number\"]\n",
    "    creator = pull[\"user\"][\"login\"]\n",
    "    pull_id = pull[\"id\"]\n",
    "    lab = {}\n",
    "    labTitle = pull[\"title\"]\n",
    "    if \"[\" in labTitle and \"]\" in labTitle:\n",
    "        lab = pull[\"title\"].split(\"[\")[1].split(\"]\")[0]\n",
    "    else:\n",
    "        lab = labTitle\n",
    "    soup = getPullHtml(number)\n",
    "    meme_lst= pullMemeLst(soup)\n",
    "    \n",
    "    if creator in lst:\n",
    "        lst[creator] = lst[creator]+ meme_lst\n",
    "    else:\n",
    "        lst.update({creator : meme_lst})\n",
    "    mentions = pullMentions(soup)\n",
    "    for mention in mentions:\n",
    "        if mention in lst:\n",
    "            lst[mention] = lst[mention]+ meme_lst\n",
    "        else:\n",
    "            lst.update({mention : meme_lst})\n",
    "    json_pull = {}\n",
    "    json_pull[\"users\"] = [creator]+list(mentions)\n",
    "    json_pull[\"created_at\"] = pull[\"created_at\"]\n",
    "    \n",
    "    closed_at = pull[\"closed_at\"]\n",
    "    json_pull[\"closed_at\"] = closed_at\n",
    "    \n",
    "    last_commit_date = lastCommitDate(number)\n",
    "    json_pull[\"last_commit_time\"] = last_commit_date\n",
    "    \n",
    "    if closed_at:\n",
    "        closed_at_datetime = to_datetime(closed_at)\n",
    "        last_commit_date_datetime = to_datetime(last_commit_date)\n",
    "        json_pull['instructor_grade_time'] = (closed_at_datetime-last_commit_date_datetime).total_seconds() / 3600\n",
    "        \n",
    "    json_pull[\"memes_lst\"] = meme_lst\n",
    "    json_pull[\"state\"] = pull['state']\n",
    "    pulls[str(pull_id)] = json_pull\n",
    "    if lab in labs:\n",
    "        labs[lab] = labs[lab]+ [pull_id]\n",
    "    else:\n",
    "        labs.update({lab : [pull_id]})\n",
    "         \n",
    "    if creator in names:\n",
    "        names[creator] = names[creator] + [lab]\n",
    "    else:\n",
    "        names.update({creator : [lab]})\n",
    "    for mention in mentions:\n",
    "        if mention in names:\n",
    "            names[mention] = names[mention] + [lab]\n",
    "        else:\n",
    "            names.update({mention : [lab]})\n",
    "            "
   ]
  },
  {
   "cell_type": "code",
   "execution_count": null,
   "metadata": {},
   "outputs": [],
   "source": []
  },
  {
   "cell_type": "code",
   "execution_count": 74,
   "metadata": {},
   "outputs": [],
   "source": [
    "pullsToExport = []\n",
    "\n",
    "for k, v in pulls.items():\n",
    "    pullsToExport.append({**v, **{\"pull_id\": k}})"
   ]
  },
  {
   "cell_type": "code",
   "execution_count": 75,
   "metadata": {},
   "outputs": [],
   "source": [
    "#jsonpulls\n",
    "\n",
    "with open('pulls.json', 'w') as json_file:\n",
    "    json.dump(pullsToExport, json_file)"
   ]
  },
  {
   "cell_type": "code",
   "execution_count": 76,
   "metadata": {},
   "outputs": [],
   "source": [
    "labsToExport = []\n",
    "\n",
    "for k, v in labs.items():\n",
    "    v = [str(x) for x in v]\n",
    "    labsToExport.append({\"lab_id\": k, \"pulls_list\": v})"
   ]
  },
  {
   "cell_type": "code",
   "execution_count": 77,
   "metadata": {},
   "outputs": [],
   "source": [
    "#jsonlabs \n",
    "\n",
    "with open('labs.json', 'w') as json_file:\n",
    "    json.dump(labsToExport, json_file)"
   ]
  },
  {
   "cell_type": "code",
   "execution_count": 78,
   "metadata": {},
   "outputs": [],
   "source": [
    "lstToExport = []\n",
    "\n",
    "for k, v in lst.items():\n",
    "    lstToExport.append({\"name\": k, \"memes_list\": v})"
   ]
  },
  {
   "cell_type": "code",
   "execution_count": 79,
   "metadata": {},
   "outputs": [],
   "source": [
    "#jsonlst \n",
    "\n",
    "with open('lst.json', 'w') as json_file:\n",
    "    json.dump(lstToExport, json_file)"
   ]
  },
  {
   "cell_type": "code",
   "execution_count": 80,
   "metadata": {},
   "outputs": [],
   "source": [
    "namesToExport = []\n",
    "\n",
    "for k, v in names.items():\n",
    "    namesToExport.append({\"name\": k, \"labs\": v})"
   ]
  },
  {
   "cell_type": "code",
   "execution_count": 81,
   "metadata": {},
   "outputs": [],
   "source": [
    "#jsonnames\n",
    "\n",
    "with open('names.json', 'w') as json_file:\n",
    "    json.dump(namesToExport, json_file)"
   ]
  },
  {
   "cell_type": "code",
   "execution_count": 144,
   "metadata": {},
   "outputs": [
    {
     "name": "stdout",
     "output_type": "stream",
     "text": [
      "{'bmedm': 'lab-tableau-data-visualization'}\n",
      "{'bmedm': 'lab-tableau-data-visualization'}\n",
      "{'bmedm': 'lab-tableau-data-visualization'}\n",
      "{'bmedm': 'lab-tableau-data-visualization'}\n",
      "{'bmedm': 'lab-tableau-data-visualization'}\n"
     ]
    }
   ],
   "source": [
    "#Testfunction\n",
    "\n",
    "def test(pull):\n",
    "    lst = {}\n",
    "    names = set()\n",
    "    pulls = {}\n",
    "    labs = {}\n",
    "    number = pull[\"number\"]\n",
    "    lab = pull[\"title\"].split(\"[\")[1].split(\"]\")[0]\n",
    "\n",
    "\n",
    "    creator = pull[\"user\"][\"login\"]\n",
    "    pull_id = pull[\"id\"]\n",
    "    soup = getPullHtml(number)\n",
    "    meme_lst= pullMemeLst(soup)\n",
    "    names.add(creator)\n",
    "    \n",
    "    if creator in lst:\n",
    "        lst[creator] = lst[creator]+ meme_lst\n",
    "    else:\n",
    "        lst.update({creator : meme_lst})\n",
    "    mentions = pullMentions(soup)\n",
    "    for mention in mentions:\n",
    "        names.add(mention)\n",
    "        if mention in lst:\n",
    "            lst[mention] = lst[mention]+ meme_lst\n",
    "        else:\n",
    "            lst.update({mention : meme_lst})\n",
    "    json_pull = {}\n",
    "    json_pull[\"users\"] = [creator]+list(mentions)\n",
    "    json_pull[\"created_at\"] = pull[\"created_at\"]\n",
    "    \n",
    "    closed_at = pull[\"closed_at\"]\n",
    "    json_pull[\"closed_at\"] = closed_at\n",
    "    \n",
    "    last_commit_date = lastCommitDate(number)\n",
    "    json_pull[\"last_commit_time\"] = last_commit_date\n",
    "    \n",
    "    if closed_at:\n",
    "        closed_at_datetime = to_datetime(closed_at)\n",
    "        last_commit_date_datetime = to_datetime(last_commit_date)\n",
    "        json_pull['instructor_grade_time'] = (closed_at_datetime-last_commit_date_datetime).total_seconds() / 3600\n",
    "    \n",
    "    json_pull[\"memes_lst\"] = meme_lst\n",
    "    pulls[str(pull_id)] = json_pull\n",
    "    if lab in labs:\n",
    "        labs[lab] = labs[lab]+ [pull_id]\n",
    "    else:\n",
    "        labs.update({lab : [pull_id]})\n",
    "        \n",
    "    names = {}\n",
    "    if creator in names:\n",
    "        names[creator] = names[creator] + [lab]\n",
    "    else:\n",
    "        names.update({creator : lab})\n",
    "    for mention in mentions:\n",
    "        if mention in names:\n",
    "            names[mention] = names[mention] + [lab]\n",
    "        else:\n",
    "            names.update({mention : lab})\n",
    "    \n",
    "    print(names)\n",
    "    \n",
    "for pull in gen_url_res:\n",
    "    if pull['number'] == 526:\n",
    "        test(pull)"
   ]
  },
  {
   "cell_type": "code",
   "execution_count": null,
   "metadata": {},
   "outputs": [],
   "source": []
  },
  {
   "cell_type": "code",
   "execution_count": 83,
   "metadata": {},
   "outputs": [],
   "source": []
  },
  {
   "cell_type": "code",
   "execution_count": null,
   "metadata": {},
   "outputs": [],
   "source": []
  },
  {
   "cell_type": "code",
   "execution_count": null,
   "metadata": {},
   "outputs": [],
   "source": []
  }
 ],
 "metadata": {
  "kernelspec": {
   "display_name": "Python 3",
   "language": "python",
   "name": "python3"
  },
  "language_info": {
   "codemirror_mode": {
    "name": "ipython",
    "version": 3
   },
   "file_extension": ".py",
   "mimetype": "text/x-python",
   "name": "python",
   "nbconvert_exporter": "python",
   "pygments_lexer": "ipython3",
   "version": "3.8.5"
  }
 },
 "nbformat": 4,
 "nbformat_minor": 4
}
